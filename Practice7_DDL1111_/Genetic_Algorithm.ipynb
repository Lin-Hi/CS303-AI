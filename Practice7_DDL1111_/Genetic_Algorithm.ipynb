{
 "cells": [
  {
   "cell_type": "code",
   "execution_count": 106,
   "metadata": {},
   "outputs": [
    {
     "name": "stdout",
     "output_type": "stream",
     "text": [
      "The autoreload extension is already loaded. To reload it, use:\n",
      "  %reload_ext autoreload\n"
     ]
    }
   ],
   "source": [
    "%load_ext autoreload\n",
    "%autoreload 2\n",
    "import random\n",
    "import numpy as np\n",
    "import matplotlib.pyplot as plt\n",
    "from utils import plot_NQueens, plot_evolution"
   ]
  },
  {
   "cell_type": "markdown",
   "metadata": {},
   "source": [
    "# Local Search: Genetic Algorithm\n",
    "\n",
    "## 1.Genrating Phrases\n",
    "\n",
    "In this section we consider a toy problem: generating a target phrases (e.g. \"genetic algorithm\") from an initial polupation of random strings. Assume the length of the target is known.\n",
    "\n",
    "Problem Formulation: \n",
    "\n",
    "1. Direct Representation: just strings.\n",
    "2. Exponential Search Space: $m^l$ where $m$ is the size of the alphabet (set of characters in our interest) and $l$ is the length of the string.\n",
    "\n",
    "Now that we want to solve it with GA:\n",
    "1. Chromesome: directly use the string itself.\n",
    "2. Fitness: how match/close an individual is to the target.\n",
    "3. Mating: combine two strings in someway to generate a new one.\n",
    "\n",
    "The following cells will walk you through this problem to show the basic idea of GA"
   ]
  },
  {
   "cell_type": "code",
   "execution_count": 107,
   "metadata": {},
   "outputs": [
    {
     "data": {
      "text/plain": "['olFDuUOoHLSPelYBD',\n 'bHPtaPl DFo SJEqo',\n 'SyvUWcvOQDKBIqBCb',\n 'vfFpftKQJiby mRMF',\n 'VSvIWjOeuUGzdHQeg',\n 'yEVDt FsURrvcNxdV',\n 'dkllHtiwKmazDyDgq',\n 'OyPzDvWgwCUF EogZ',\n 'EQafHlDaRDEHIayqT',\n 'PcwKUrNgAmiokHBZV']"
     },
     "execution_count": 107,
     "metadata": {},
     "output_type": "execute_result"
    }
   ],
   "source": [
    "# setting up the problem\n",
    "target = 'Genetic Algorithm'\n",
    "u_case = [chr(x) for x in range(65, 91)]\n",
    "l_case = [chr(x) for x in range(97, 123)]\n",
    "gene_pool = u_case + l_case + [' ']  # all English chracters and white space\n",
    "\n",
    "\n",
    "def init_population(pop_size, gene_pool, state_length):\n",
    "    \"\"\"\n",
    "    Randomly initialize a population for genetic algorithm\n",
    "        pop_size  :  Number of individuals in population\n",
    "        gene_pool   :  List of possible values for individuals\n",
    "        state_length:  The length of each individual\n",
    "    \"\"\"\n",
    "\n",
    "    population = []\n",
    "    for _ in range(pop_size):\n",
    "        new_individual = \"\".join(random.choices(gene_pool, k=state_length))\n",
    "        population.append(new_individual)\n",
    "\n",
    "    return population\n",
    "\n",
    "\n",
    "# test\n",
    "init_pop = init_population(10, gene_pool, len(target))\n",
    "init_pop"
   ]
  },
  {
   "cell_type": "code",
   "execution_count": 108,
   "metadata": {},
   "outputs": [
    {
     "data": {
      "text/plain": "0"
     },
     "execution_count": 108,
     "metadata": {},
     "output_type": "execute_result"
    }
   ],
   "source": [
    "def fitness_fn(sample):\n",
    "    # TODO: evaluate how close *sample* is to the target\n",
    "    grades = 0\n",
    "    for i in range(0, len(target)):\n",
    "        if sample[i] == target[i]:\n",
    "            grades += 1\n",
    "    return grades\n",
    "\n",
    "\n",
    "# test\n",
    "fitness_fn(init_pop[0])"
   ]
  },
  {
   "cell_type": "code",
   "execution_count": 109,
   "metadata": {},
   "outputs": [
    {
     "data": {
      "text/plain": "['PcwKUrNgAmiokHBZV',\n 'bHPtaPl DFo SJEqo',\n 'PcwKUrNgAmiokHBZV',\n 'bHPtaPl DFo SJEqo',\n 'yEVDt FsURrvcNxdV',\n 'olFDuUOoHLSPelYBD',\n 'SyvUWcvOQDKBIqBCb',\n 'vfFpftKQJiby mRMF',\n 'VSvIWjOeuUGzdHQeg',\n 'dkllHtiwKmazDyDgq',\n 'OyPzDvWgwCUF EogZ',\n 'EQafHlDaRDEHIayqT']"
     },
     "execution_count": 109,
     "metadata": {},
     "output_type": "execute_result"
    }
   ],
   "source": [
    "def select(r, population, fitness_fn):\n",
    "    \"\"\"\n",
    "    TODO: select *r* samples from *population*\n",
    "    the simplest choice is to sample from *population* with each individual weighted by its fitness\n",
    "    \"\"\"\n",
    "    population.sort(key=lambda x: fitness_fn(x), reverse=True)\n",
    "    return population[:r]+population[r-70:]\n",
    "\n",
    "\n",
    "# test\n",
    "parents = select(2, init_pop, fitness_fn)\n",
    "parents"
   ]
  },
  {
   "cell_type": "code",
   "execution_count": 110,
   "metadata": {},
   "outputs": [],
   "source": [
    "def recombine(x, y):\n",
    "    \"\"\"\n",
    "    TODO: combine two parents to produce an offspring\n",
    "    \"\"\"\n",
    "    s = ''\n",
    "    i = random.randint(0, len(x))\n",
    "    i = random.randint(0, i)\n",
    "    last_i = 0\n",
    "    for j in range(i):\n",
    "        if j // 2 == 0:\n",
    "            s += x[last_i:i]\n",
    "        else:\n",
    "            s += y[last_i:i]\n",
    "        last_i=i\n",
    "    s += x[i:len(x)]\n",
    "    for i in range(len(x)):\n",
    "        ran = random.random()\n",
    "        if ran > 0.97:\n",
    "            s = s[:i]+str(random.randint(0,9))+s[i+1:]\n",
    "    return s\n",
    "\n",
    "\n",
    "def mutate(x, gene_pool, pmut):\n",
    "    \"\"\"\n",
    "    apply mutation to *x* by randomly replacing one of its gene from *gene_pool*\n",
    "    \"\"\"\n",
    "    ans = x\n",
    "    if random.uniform(0, 1) >= pmut:\n",
    "        return x\n",
    "    l = [i for i in range(len(x))]\n",
    "    for _ in range(1):\n",
    "        i = l[random.randint(0, len(l) - 1)]\n",
    "        l.remove(i)\n",
    "        j = random.randrange(0, 10)\n",
    "        ans = x[:i] + str(j) + x[i + 1:]\n",
    "    for _ in range(1):\n",
    "        n = len(x)\n",
    "        g = len(gene_pool)\n",
    "        c = random.randrange(0, n)\n",
    "        r = random.randrange(0, g)\n",
    "        new_gene = gene_pool[r]\n",
    "        ans = x[:c] + new_gene + x[c + 1:]\n",
    "    return ans\n",
    "\n"
   ]
  },
  {
   "cell_type": "code",
   "execution_count": 111,
   "metadata": {},
   "outputs": [],
   "source": [
    "# now refactor things into a *Problem* abstraction\n",
    "# you can directly reuse what you have implemented above\n",
    "from abc import ABC, abstractmethod\n",
    "\n",
    "\n",
    "class GAProblem(ABC):\n",
    "    @abstractmethod\n",
    "    def init_population(self, pop_size): pass\n",
    "\n",
    "    @abstractmethod\n",
    "    def fitness(self, sample): pass\n",
    "\n",
    "    @abstractmethod\n",
    "    def reproduce(self, population): pass\n",
    "\n",
    "    @abstractmethod\n",
    "    def replacement(self, old, new): pass\n",
    "\n",
    "\n",
    "class PhraseGeneration(GAProblem):\n",
    "    def __init__(self, target, alphabet):\n",
    "        self.target = target\n",
    "        self.alphabet = alphabet\n",
    "        self.mutation_rate = mutation_rate\n",
    "\n",
    "    def init_population(self, pop_size):\n",
    "        # raise NotImplementedError()\n",
    "        return init_population(pop_size, self.alphabet, len(self.target))\n",
    "\n",
    "    def fitness(self, sample):\n",
    "        # TODO: evaluate how close *sample* is to the target\n",
    "        grades = 0\n",
    "        for i in range(0, len(target)):\n",
    "            if sample[i] == target[i]:\n",
    "                if target[i].isdigit():\n",
    "                    grades += 1\n",
    "                else:\n",
    "                    grades += 1\n",
    "        return grades\n",
    "\n",
    "    def reproduce(self, population, mutation_rate):\n",
    "        \"\"\"\n",
    "        TODO: generate the next generation of population\n",
    "\n",
    "        hint: make a new individual with\n",
    "\n",
    "        mutate(recombine(*select(2, population, fitness_fn)), gene_pool, pmut)\n",
    "\n",
    "        \"\"\"\n",
    "        ans = []\n",
    "        size = len(population)\n",
    "        s = set()\n",
    "        best = max(population, key=problem.fitness)\n",
    "        for _ in range(len(population)):\n",
    "            i = random.randrange(0, size)\n",
    "            while i in s:\n",
    "                i = random.randrange(0, size)\n",
    "            ans.append(mutate(recombine(population[i], best), gene_pool, mutation_rate))\n",
    "            s.add(i)\n",
    "        return ans\n",
    "\n",
    "    def replacement(self, old, new):\n",
    "        \"\"\"\n",
    "        You can use your own strategy, for example retain some solutions from the old population\n",
    "        \"\"\"\n",
    "        l = old + new\n",
    "        l.sort(key=lambda s: fitness_fn(s), reverse=True)\n",
    "        return l[:len(old)]\n",
    "\n",
    "\n",
    "def genetic_algorithm(\n",
    "        problem: GAProblem,\n",
    "        ngen, n_init_size, mutation_rate,\n",
    "        log_intervel=100\n",
    "):\n",
    "    population = problem.init_population(n_init_size)\n",
    "    best = max(population, key=problem.fitness)\n",
    "    history = [(0, list(map(problem.fitness, population)))]\n",
    "\n",
    "    for gen in range(ngen):\n",
    "        next_gen = problem.reproduce(population, mutation_rate)\n",
    "        population = problem.replacement(population, next_gen)\n",
    "\n",
    "        if gen % log_intervel == 0:\n",
    "            current_best = max(population, key=problem.fitness)\n",
    "            if problem.fitness(current_best) > problem.fitness(best): best = current_best\n",
    "            print(f\"Generation: {gen}/{ngen},\\tBest: {best},\\tFitness={problem.fitness(best)}\")\n",
    "            history.append((gen, list(map(problem.fitness, population))))\n",
    "\n",
    "    history.append((ngen - 1, list(map(problem.fitness, population))))\n",
    "    return best, history"
   ]
  },
  {
   "cell_type": "code",
   "execution_count": 112,
   "metadata": {},
   "outputs": [
    {
     "name": "stdout",
     "output_type": "stream",
     "text": [
      "Generation: 0/1000,\tBest: tcnGg83T2UPurhGhzSOdJk0FZdcwf,\tFitness=3\n",
      "Generation: 100/1000,\tBest: 43Genic9G6K3ritz6 48712010903,\tFitness=15\n",
      "Generation: 200/1000,\tBest: 095enic Al6oritzm 48312010903,\tFitness=20\n",
      "Generation: 300/1000,\tBest: G95etic Al4orithm 48312010903,\tFitness=23\n",
      "Generation: 400/1000,\tBest: G98etic Al6orithm by812010903,\tFitness=25\n",
      "Generation: 500/1000,\tBest: G94etic Algorithm by 12010903,\tFitness=27\n",
      "Generation: 600/1000,\tBest: Genetic Algorithm by812010903,\tFitness=28\n",
      "Generation: 700/1000,\tBest: Genetic Algorithm by812010903,\tFitness=28\n",
      "Generation: 800/1000,\tBest: Genetic Algorithm by 12010903,\tFitness=29\n",
      "Generation: 900/1000,\tBest: Genetic Algorithm by 12010903,\tFitness=29\n"
     ]
    },
    {
     "data": {
      "text/plain": "'Genetic Algorithm by 12010903'"
     },
     "execution_count": 112,
     "metadata": {},
     "output_type": "execute_result"
    }
   ],
   "source": [
    "ngen = 1000\n",
    "max_population = 300\n",
    "mutation_rate = 0.1\n",
    "\n",
    "sid = 12010903  # TODO:  replace this with your own sid\n",
    "target = f\"Genetic Algorithm by {sid}\"\n",
    "u_case = [chr(x) for x in range(65, 91)]\n",
    "l_case = [chr(x) for x in range(97, 123)]\n",
    "num_case = [str(i) for i in range(10)]\n",
    "alphabet = u_case + l_case + num_case + [\" \"]  # TODO: fix this: what is the search space now?\n",
    "\n",
    "problem = PhraseGeneration(target, alphabet)\n",
    "\n",
    "# and run it\n",
    "solution, history = genetic_algorithm(problem, ngen, max_population, mutation_rate)\n",
    "solution"
   ]
  },
  {
   "cell_type": "code",
   "execution_count": 113,
   "metadata": {},
   "outputs": [
    {
     "ename": "AttributeError",
     "evalue": "'PhraseGeneration' object has no attribute 'max_fitness'",
     "output_type": "error",
     "traceback": [
      "\u001B[1;31m---------------------------------------------------------------------------\u001B[0m",
      "\u001B[1;31mAttributeError\u001B[0m                            Traceback (most recent call last)",
      "Input \u001B[1;32mIn [113]\u001B[0m, in \u001B[0;36m<cell line: 2>\u001B[1;34m()\u001B[0m\n\u001B[0;32m      1\u001B[0m \u001B[38;5;66;03m# visualize the evolution of the polulation\u001B[39;00m\n\u001B[1;32m----> 2\u001B[0m bins \u001B[38;5;241m=\u001B[39m np\u001B[38;5;241m.\u001B[39mlinspace(\u001B[38;5;241m0\u001B[39m, \u001B[43mproblem\u001B[49m\u001B[38;5;241;43m.\u001B[39;49m\u001B[43mmax_fitness\u001B[49m, problem\u001B[38;5;241m.\u001B[39mmax_fitness \u001B[38;5;241m+\u001B[39m \u001B[38;5;241m1\u001B[39m)\n\u001B[0;32m      3\u001B[0m plot_evolution(history, bins)\n\u001B[0;32m      4\u001B[0m bins\n",
      "\u001B[1;31mAttributeError\u001B[0m: 'PhraseGeneration' object has no attribute 'max_fitness'"
     ]
    }
   ],
   "source": [
    "# visualize the evolution of the polulation\n",
    "bins = np.linspace(0, problem.max_fitness, problem.max_fitness + 1)\n",
    "plot_evolution(history, bins)\n",
    "bins"
   ]
  },
  {
   "cell_type": "markdown",
   "metadata": {},
   "source": [
    "## 2. N-Queens Problem\n",
    "\n",
    "It is possible to solve the N-Queens problem with slight modifications.\n",
    "\n",
    "For the problem:\n",
    "\n",
    "1. Direct Representation: placement of queens.\n",
    "2. Search Space: $n^n$, if we don't use any constraints.\n",
    "\n",
    "To use GA:\n",
    "\n",
    "Actually a new fitness function is the minimum modification you need for this problem.\n",
    "\n",
    "Others are alomost the same as the previous problem."
   ]
  },
  {
   "cell_type": "code",
   "execution_count": null,
   "metadata": {},
   "outputs": [],
   "source": [
    "class NQueensProblem(GAProblem):\n",
    "    def __init__(self, n):\n",
    "        self.n = n\n",
    "        self.max_fitness = n * (n - 1) // 2  # max number if non-attacking pairs\n",
    "\n",
    "    def init_population(self, pop_size):\n",
    "        # TODO:alomost the same as the previous problem.\n",
    "        raise NotImplementedError()\n",
    "\n",
    "    def fitness(self, queens):\n",
    "        \"\"\"\n",
    "        TODO\n",
    "\n",
    "        hint: count the non-attacking pairs\n",
    "        \"\"\"\n",
    "        raise NotImplementedError()\n",
    "\n",
    "    def reproduce(self, population, mutation_rate):\n",
    "        # TODO:alomost the same as the previous problem.\n",
    "        raise NotImplementedError()\n",
    "\n",
    "    def replacement(self, old, new):\n",
    "        \"\"\"\n",
    "        You can use your own strategy, for example retain some solutions from the old population\n",
    "        \"\"\"\n",
    "        return new\n",
    "\n",
    "    def __repr__(self):\n",
    "        return f\"{self.n}-Queens Problem\""
   ]
  },
  {
   "cell_type": "code",
   "execution_count": null,
   "metadata": {},
   "outputs": [],
   "source": [
    "from utils import plot_NQueens\n",
    "\n",
    "ngen = 1000\n",
    "init_size = 120\n",
    "mutation_rate = 0.08\n",
    "\n",
    "n = 8\n",
    "problem = NQueensProblem(n)\n",
    "solution, history = genetic_algorithm(problem, ngen, init_size, mutation_rate)"
   ]
  },
  {
   "cell_type": "code",
   "execution_count": null,
   "metadata": {},
   "outputs": [],
   "source": [
    "# Example of how to use this function\n",
    "# plot_NQueens([4, 2, 0, 6, 1, 7, 5, 3])\n",
    "# replace the parameter with your own results\n",
    "plot_NQueens(solution)"
   ]
  },
  {
   "cell_type": "code",
   "execution_count": null,
   "metadata": {},
   "outputs": [],
   "source": [
    "# Visualize the evolution of the polulation\n",
    "bins = np.linspace(0, problem.max_fitness, problem.max_fitness)\n",
    "plot_evolution(history, bins)"
   ]
  }
 ],
 "metadata": {
  "interpreter": {
   "hash": "fb94abd67aa002aa187ead1d4120a8ec4bfee3e4c9494aaf1e01cee1e01ca26c"
  },
  "kernelspec": {
   "display_name": "Python 3",
   "language": "python",
   "name": "python3"
  },
  "language_info": {
   "codemirror_mode": {
    "name": "ipython",
    "version": 3
   },
   "file_extension": ".py",
   "mimetype": "text/x-python",
   "name": "python",
   "nbconvert_exporter": "python",
   "pygments_lexer": "ipython3",
   "version": "3.8.8"
  }
 },
 "nbformat": 4,
 "nbformat_minor": 2
}
