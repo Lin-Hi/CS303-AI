{
 "cells": [
  {
   "cell_type": "code",
   "execution_count": 1,
   "outputs": [],
   "source": [
    "import numpy as np"
   ],
   "metadata": {
    "collapsed": false
   }
  },
  {
   "cell_type": "markdown",
   "source": [
    "## Practice\n",
    "\n",
    "1. Create a 10*10 ndarray object, and the matrix boundary value is 1, and the rest are 0.\n"
   ],
   "metadata": {
    "collapsed": false
   }
  },
  {
   "cell_type": "code",
   "execution_count": 2,
   "id": "035382e3",
   "metadata": {},
   "outputs": [
    {
     "data": {
      "text/plain": "array([[1., 1., 1., 1., 1., 1., 1., 1., 1., 1.],\n       [1., 0., 0., 0., 0., 0., 0., 0., 0., 1.],\n       [1., 0., 0., 0., 0., 0., 0., 0., 0., 1.],\n       [1., 0., 0., 0., 0., 0., 0., 0., 0., 1.],\n       [1., 0., 0., 0., 0., 0., 0., 0., 0., 1.],\n       [1., 0., 0., 0., 0., 0., 0., 0., 0., 1.],\n       [1., 0., 0., 0., 0., 0., 0., 0., 0., 1.],\n       [1., 0., 0., 0., 0., 0., 0., 0., 0., 1.],\n       [1., 0., 0., 0., 0., 0., 0., 0., 0., 1.],\n       [1., 1., 1., 1., 1., 1., 1., 1., 1., 1.]])"
     },
     "execution_count": 2,
     "metadata": {},
     "output_type": "execute_result"
    }
   ],
   "source": [
    "#1\n",
    "m1 = np.zeros((10, 10))\n",
    "for i in range(10):\n",
    "    for j in range(10):\n",
    "        if i * j == 0 or i == 9 or j == 9:\n",
    "            m1[i, j] = 1\n",
    "m1"
   ]
  },
  {
   "cell_type": "markdown",
   "id": "8d3b3c80",
   "metadata": {},
   "source": [
    "2. Create a 5*5 matrix with each row being 0 to 4"
   ]
  },
  {
   "cell_type": "code",
   "execution_count": 3,
   "id": "6c26347e",
   "metadata": {},
   "outputs": [
    {
     "data": {
      "text/plain": "array([[0, 1, 2, 3, 4],\n       [0, 1, 2, 3, 4],\n       [0, 1, 2, 3, 4],\n       [0, 1, 2, 3, 4],\n       [0, 1, 2, 3, 4]])"
     },
     "execution_count": 3,
     "metadata": {},
     "output_type": "execute_result"
    }
   ],
   "source": [
    "#2\n",
    "m2 = np.stack([np.arange(0, 5) for _ in range(5)], axis=0)\n",
    "m2"
   ]
  },
  {
   "cell_type": "markdown",
   "id": "8b226308",
   "metadata": {},
   "source": [
    "3. Create an 8*8 matrix and fill it with a checkerboard pattern, like [[0,1],[1,0]])"
   ]
  },
  {
   "cell_type": "markdown",
   "source": [],
   "metadata": {
    "collapsed": false
   }
  },
  {
   "cell_type": "code",
   "execution_count": 4,
   "id": "e83e8494",
   "metadata": {},
   "outputs": [
    {
     "data": {
      "text/plain": "array([[0., 1., 0., 1., 0., 1., 0.],\n       [1., 0., 1., 0., 1., 0., 1.],\n       [0., 1., 0., 1., 0., 1., 0.],\n       [1., 0., 1., 0., 1., 0., 1.],\n       [0., 1., 0., 1., 0., 1., 0.],\n       [1., 0., 1., 0., 1., 0., 1.],\n       [0., 1., 0., 1., 0., 1., 0.],\n       [1., 0., 1., 0., 1., 0., 1.]])"
     },
     "execution_count": 4,
     "metadata": {},
     "output_type": "execute_result"
    }
   ],
   "source": [
    "#3\n",
    "m31 = np.where(np.arange(0, 7) % 2 == 1, 1.0, 0.0)\n",
    "m32 = np.where(np.arange(0, 7) % 2 == 0, 1.0, 0.0)\n",
    "m3 = np.vstack([m31, m32])\n",
    "for _ in range(2):\n",
    "    m3 = np.vstack([m3, m3])\n",
    "m3"
   ]
  },
  {
   "cell_type": "markdown",
   "id": "04663245",
   "metadata": {},
   "source": [
    "4. output all the odd numbers in the array  \n",
    "   Example:  \n",
    "   in:    arr = np.array([0, 1, 2, 3, 4, 5, 6, 7, 8, 9])  \n",
    "   out:   array([1, 3, 5, 7, 9])  "
   ]
  },
  {
   "cell_type": "code",
   "execution_count": 5,
   "id": "7964df33",
   "metadata": {},
   "outputs": [
    {
     "data": {
      "text/plain": "array([1, 3, 5, 7, 9])"
     },
     "execution_count": 5,
     "metadata": {},
     "output_type": "execute_result"
    }
   ],
   "source": [
    "#4\n",
    "arr = np.array([0, 1, 2, 3, 4, 5, 6, 7, 8, 9])\n",
    "ans = []\n",
    "for i in arr.flat:\n",
    "    if i % 2 == 1:\n",
    "        ans.append(i)\n",
    "m4 = np.array(ans)\n",
    "m4"
   ]
  },
  {
   "cell_type": "markdown",
   "id": "fc506104",
   "metadata": {},
   "source": [
    "5. Normalize a 5x5 random matrix "
   ]
  },
  {
   "cell_type": "code",
   "execution_count": 6,
   "id": "972284fd",
   "metadata": {},
   "outputs": [
    {
     "data": {
      "text/plain": "array([[-0.27704819, -1.06393494,  1.66194462, -0.01233254, -0.45932176],\n       [-0.96215582, -0.60434406,  1.94622648, -0.44750417, -1.21673881],\n       [ 1.35255236, -1.76917544,  1.85204254, -0.43333202, -0.19746696],\n       [-0.46659388,  0.95448114,  0.88355346,  0.69098759,  0.32239037],\n       [ 0.97413919, -0.94094838, -0.61475841, -0.42545357, -0.74720879]])"
     },
     "execution_count": 6,
     "metadata": {},
     "output_type": "execute_result"
    }
   ],
   "source": [
    "#5\n",
    "def process5(matrix):\n",
    "    sigma = np.std(matrix)\n",
    "    miu = np.mean(matrix)\n",
    "    return np.array([(x - miu) / sigma for x in matrix])\n",
    "\n",
    "\n",
    "m5 = np.random.randn(5, 5)\n",
    "process5(m5)"
   ]
  },
  {
   "cell_type": "markdown",
   "id": "df87456c",
   "metadata": {},
   "source": [
    "6. Consider a random 10x2 matrix representing cartesian coordinates, convert them to polar coordinates."
   ]
  },
  {
   "cell_type": "code",
   "execution_count": 7,
   "id": "125feb23",
   "metadata": {},
   "outputs": [
    {
     "data": {
      "text/plain": "(array([2.1521433 , 0.69066163, 1.57827536, 0.79941848, 1.23820613]),\n array([-2.28322481, -3.13543294,  1.87255919, -0.04582857,  1.62712218]))"
     },
     "execution_count": 7,
     "metadata": {},
     "output_type": "execute_result"
    }
   ],
   "source": [
    "#6\n",
    "import cmath\n",
    "\n",
    "\n",
    "def process6(xs, ys):\n",
    "    rs = []\n",
    "    ts = []\n",
    "    for i in range(len(xs)):\n",
    "        cn = complex(xs[i], ys[i])\n",
    "        r, t = cmath.polar(cn)\n",
    "        rs.append(r)\n",
    "        ts.append(t)\n",
    "    return np.array(rs), np.array(ts)\n",
    "\n",
    "\n",
    "xs = np.random.randn(5)\n",
    "ys = np.random.randn(5)\n",
    "process6(xs, ys)"
   ]
  },
  {
   "cell_type": "markdown",
   "id": "c1cedf1f",
   "metadata": {},
   "source": [
    "7. Consider the vector [1, 2, 3, 4, 5], how to build a new vector with 3 consecutive zeros interleaved between each value?"
   ]
  },
  {
   "cell_type": "code",
   "execution_count": 8,
   "id": "c8a88dfd",
   "metadata": {},
   "outputs": [
    {
     "data": {
      "text/plain": "array([1, 0, 0, 0, 2, 0, 0, 0, 3, 0, 0, 0, 4, 0, 0, 0, 5])"
     },
     "execution_count": 8,
     "metadata": {},
     "output_type": "execute_result"
    }
   ],
   "source": [
    "#7\n",
    "m70 = np.array([1, 2, 3, 4, 5])\n",
    "ans = []\n",
    "for i in range(len(m70) - 1):\n",
    "    ans.append(m70[i])\n",
    "    ans += [0 for _ in range(3)]\n",
    "ans.append(m70[-1])\n",
    "np.array(ans)"
   ]
  },
  {
   "cell_type": "markdown",
   "id": "c7ea103c",
   "metadata": {},
   "source": [
    "8. What are the result of the following expressions?\n",
    "\n",
    "0 * np.nan\n",
    "\n",
    "np.nan == np.nan\n",
    "\n",
    "np.inf > np.nan\n",
    "\n",
    "np.nan - np.nan\n",
    "\n",
    "np.nan in set([np.nan])\n",
    "\n",
    "0.3 == 3 * 0.1 \n",
    "\n",
    "(hint1:nan means not a number \n",
    "hint2:0.1(10) == 0.0001100110011001100110011001100110011001100110011...(2))\n",
    "First guess a result, then print the result, and finally find why"
   ]
  },
  {
   "cell_type": "code",
   "execution_count": 9,
   "id": "ee65170c",
   "metadata": {},
   "outputs": [
    {
     "data": {
      "text/plain": "False"
     },
     "execution_count": 9,
     "metadata": {},
     "output_type": "execute_result"
    }
   ],
   "source": [
    "#8\n",
    "# 0 * np.nan\n",
    "# np.nan == np.nan\n",
    "# np.inf > np.nan\n",
    "# np.nan - np.nan\n",
    "# np.nan in set([np.nan])\n",
    "0.3 == 3 * 0.1"
   ]
  },
  {
   "cell_type": "markdown",
   "id": "7218ef9e",
   "metadata": {},
   "source": [
    "9. What are the result of the following expressions? (Hint: the type of pn.nan is float)\n",
    "\n",
    "np.array(0) / np.array(0)\n",
    "\n",
    "np.array(0) // np.array(0)\n",
    "\n",
    "np.array([np.nan]).astype(int).astype(float)\n",
    "\n",
    "\n",
    "First guess a result, then print the result, and finally find why "
   ]
  },
  {
   "cell_type": "code",
   "execution_count": 10,
   "id": "cc0b2732",
   "metadata": {},
   "outputs": [
    {
     "data": {
      "text/plain": "array([-2.14748365e+09])"
     },
     "execution_count": 10,
     "metadata": {},
     "output_type": "execute_result"
    }
   ],
   "source": [
    "#9\n",
    "# np.array(0) / np.array(0)\n",
    "# np.array(0) // np.array(0)\n",
    "np.array([np.nan]).astype(int).astype(float)"
   ]
  }
 ],
 "metadata": {
  "kernelspec": {
   "display_name": "Python 3",
   "language": "python",
   "name": "python3"
  },
  "language_info": {
   "codemirror_mode": {
    "name": "ipython",
    "version": 3
   },
   "file_extension": ".py",
   "mimetype": "text/x-python",
   "name": "python",
   "nbconvert_exporter": "python",
   "pygments_lexer": "ipython3",
   "version": "3.8.8"
  }
 },
 "nbformat": 4,
 "nbformat_minor": 5
}
